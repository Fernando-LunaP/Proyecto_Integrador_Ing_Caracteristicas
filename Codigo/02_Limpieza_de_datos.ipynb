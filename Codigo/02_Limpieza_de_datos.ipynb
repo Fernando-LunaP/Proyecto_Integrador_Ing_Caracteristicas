{
  "cells": [
    {
      "attachments": {},
      "cell_type": "markdown",
      "metadata": {
        "id": "szRpG9BDFWNJ"
      },
      "source": [
        "<center>\n",
        "<p><img src=\"https://mcd.unison.mx/wp-content/themes/awaken/img/logo_mcd.png\" width=\"150\">\n",
        "</p>\n",
        "\n",
        "\n",
        "\n",
        "<h1>Curso Ingeniería de Características</h1>\n",
        "\n",
        "<h3>Proyecto integrador (parte 2): Limpieza de los datos </h3>\n",
        "\n",
        "<p> Alumno </p>\n",
        "<p> Fernando Luna Ponce </p>\n",
        "\n",
        "<p> Profesor </p>\n",
        "<p> Dr. Julio Waissman Vilanova </p>\n",
        "\n",
        "</center>"
      ]
    },
    {
      "attachments": {},
      "cell_type": "markdown",
      "metadata": {},
      "source": [
        "En esta parte del proyecto estaremos aplicando:\n",
        "- Armonización de variables\n",
        "- Manejo y codificación de valores cuantitativos, fechas\n",
        "- Manejo de valores perdidos\n",
        "- Detección de y manejo de valores anómalos"
      ]
    },
    {
      "attachments": {},
      "cell_type": "markdown",
      "metadata": {},
      "source": [
        "Importamos las librerías necesarias."
      ]
    },
    {
      "cell_type": "code",
      "execution_count": 123,
      "metadata": {
        "id": "nCdf2_x5r7L8"
      },
      "outputs": [],
      "source": [
        "import pandas as pd # Solo para ver el archivo descargado\n",
        "import numpy as np\n",
        "import datetime"
      ]
    },
    {
      "attachments": {},
      "cell_type": "markdown",
      "metadata": {},
      "source": [
        "# Limpieza de datos"
      ]
    },
    {
      "attachments": {},
      "cell_type": "markdown",
      "metadata": {},
      "source": [
        "Nuestra raw data la importamos para comenzar con la limpieza."
      ]
    },
    {
      "cell_type": "code",
      "execution_count": 124,
      "metadata": {},
      "outputs": [],
      "source": [
        "subdir = \"./data/raw_data/\"\n",
        "\n",
        "rawDataDefunciones2017 = pd.read_parquet(subdir + 'raw_data_Defunciones2017.parquet')\n",
        "rawDataDefunciones2018 = pd.read_parquet(subdir + 'raw_data_Defunciones2018.parquet')\n",
        "rawDataDefunciones2019 = pd.read_parquet(subdir + 'raw_data_Defunciones2019.parquet')\n",
        "rawDataDefunciones2020 = pd.read_parquet(subdir + 'raw_data_Defunciones2020.parquet')\n",
        "rawDataDefunciones2021 = pd.read_parquet(subdir + 'raw_data_Defunciones2021.parquet')\n",
        "rawDataHabitantes = pd.read_parquet(subdir + 'raw_data_Habitantes.parquet')"
      ]
    },
    {
      "cell_type": "markdown",
      "metadata": {
        "id": "JC7JNgYvXWqp"
      },
      "source": [
        "1. Filtrar por Estado de residencia habitual del fallecido, ya que este campo es el que nos indica donde radicaba, en este caso solo nos interesan las correspondientes al Estado de Sonora (26)"
      ]
    },
    {
      "cell_type": "code",
      "execution_count": 125,
      "metadata": {
        "colab": {
          "base_uri": "https://localhost:8080/",
          "height": 299
        },
        "id": "QYnLC_fIU3dI",
        "outputId": "4f2635ae-c3aa-416f-a749-df45ba55d038"
      },
      "outputs": [
        {
          "name": "stdout",
          "output_type": "stream",
          "text": [
            "(16729, 59)\n",
            "(17644, 62)\n",
            "(18485, 59)\n",
            "(27814, 59)\n",
            "(25273, 59)\n"
          ]
        }
      ],
      "source": [
        "rawDataDefunciones2017 = rawDataDefunciones2017[rawDataDefunciones2017[\"ent_resid\"] == 26]\n",
        "print(rawDataDefunciones2017.shape)\n",
        "\n",
        "rawDataDefunciones2018 = rawDataDefunciones2018[rawDataDefunciones2018[\"ent_resid\"] == 26]\n",
        "print(rawDataDefunciones2018.shape)\n",
        "\n",
        "rawDataDefunciones2019 = rawDataDefunciones2019[rawDataDefunciones2019[\"ent_resid\"] == 26]\n",
        "print(rawDataDefunciones2019.shape)\n",
        "\n",
        "rawDataDefunciones2020 = rawDataDefunciones2020[rawDataDefunciones2020[\"ent_resid\"] == 26]\n",
        "print(rawDataDefunciones2020.shape)\n",
        "\n",
        "rawDataDefunciones2021 = rawDataDefunciones2021[rawDataDefunciones2021[\"ent_resid\"] == 26]\n",
        "print(rawDataDefunciones2021.shape)"
      ]
    },
    {
      "cell_type": "markdown",
      "metadata": {
        "id": "w9ZMf83hZcnJ"
      },
      "source": [
        "2. Filtrar solo los que tengan causa de defunción por diabetes, para esto tenemos abrimos otro excel con la lista de nuestros valores para la columna de causa de defunción. Vamos a extraer estos valores y con estos filtraremos nuestro dataframe."
      ]
    },
    {
      "cell_type": "code",
      "execution_count": 126,
      "metadata": {
        "colab": {
          "base_uri": "https://localhost:8080/",
          "height": 206
        },
        "id": "ZQ-4g0UMfOwY",
        "outputId": "67224e8f-0dc2-46df-c593-033ec49d4019"
      },
      "outputs": [],
      "source": [
        "causaDef2017 = pd.read_csv('./data/fuente_1/catalogos/decatcausa.csv', encoding='latin-1')\n",
        "causaDiabetes2017 = causaDef2017.query('DESCRIP.str.contains(\"Diabetes\")', engine='python')\n",
        "\n",
        "causaDef2018 = pd.read_csv('./data/fuente_2/catalogos/causa_defuncion.csv', encoding='latin-1')\n",
        "causaDiabetes2018 = causaDef2018.query('DESCRIP.str.contains(\"Diabetes\")', engine='python')\n",
        "\n",
        "causaDef2019 = pd.read_csv('./data/fuente_3/catalogos/causa_defuncion.csv', encoding='latin-1')\n",
        "causaDiabetes2019 = causaDef2019.query('descrip.str.contains(\"Diabetes\")', engine='python')\n",
        "\n",
        "causaDef2020 = pd.read_csv('./data/fuente_4/catalogos/causa_defuncion.csv', encoding='latin-1')\n",
        "causaDiabetes2020 = causaDef2020.query('descrip.str.contains(\"Diabetes\")', engine='python')\n",
        "\n",
        "causaDef2021 = pd.read_csv('./data/fuente_5/catalogos/causa_defuncion.csv', encoding='latin-1')\n",
        "causaDiabetes2021 = causaDef2021.query('descrip.str.contains(\"Diabetes\")', engine='python')"
      ]
    },
    {
      "cell_type": "code",
      "execution_count": 127,
      "metadata": {
        "id": "tlcdXpTHZnym"
      },
      "outputs": [
        {
          "name": "stdout",
          "output_type": "stream",
          "text": [
            "(1828, 59)\n",
            "(1545, 62)\n",
            "(1614, 59)\n",
            "(2268, 59)\n",
            "(1784, 59)\n"
          ]
        }
      ],
      "source": [
        "rawDataDefunciones2017 = rawDataDefunciones2017[rawDataDefunciones2017['causa_def'].isin(causaDiabetes2017[\"CVE\"])]\n",
        "print(rawDataDefunciones2017.shape)\n",
        "\n",
        "rawDataDefunciones2018 = rawDataDefunciones2018[rawDataDefunciones2018['causa_def'].isin(causaDiabetes2018[\"CVE\"])]\n",
        "print(rawDataDefunciones2018.shape)\n",
        "\n",
        "rawDataDefunciones2019 = rawDataDefunciones2019[rawDataDefunciones2019['causa_def'].isin(causaDiabetes2019[\"cve\"])]\n",
        "print(rawDataDefunciones2019.shape)\n",
        "\n",
        "rawDataDefunciones2020 = rawDataDefunciones2020[rawDataDefunciones2020['causa_def'].isin(causaDiabetes2020[\"cve\"])]\n",
        "print(rawDataDefunciones2020.shape)\n",
        "\n",
        "rawDataDefunciones2021 = rawDataDefunciones2021[rawDataDefunciones2021['causa_def'].isin(causaDiabetes2021[\"cve\"])]\n",
        "print(rawDataDefunciones2021.shape)"
      ]
    },
    {
      "cell_type": "markdown",
      "metadata": {},
      "source": [
        "3. Unimos los dataframes, pero para esto primero tenemos que dejar estos con la misma cantidad de columnas:"
      ]
    },
    {
      "cell_type": "code",
      "execution_count": 128,
      "metadata": {},
      "outputs": [
        {
          "name": "stdout",
          "output_type": "stream",
          "text": [
            "(1828, 59)\n",
            "(1545, 59)\n",
            "(1614, 59)\n",
            "(2268, 59)\n"
          ]
        }
      ],
      "source": [
        "columnas = rawDataDefunciones2021.columns\n",
        "rawDataDefunciones2017 = rawDataDefunciones2017[columnas]\n",
        "print(rawDataDefunciones2017.shape)\n",
        "\n",
        "rawDataDefunciones2018 = rawDataDefunciones2018[columnas]\n",
        "print(rawDataDefunciones2018.shape)\n",
        "\n",
        "rawDataDefunciones2019 = rawDataDefunciones2019[columnas]\n",
        "print(rawDataDefunciones2019.shape)\n",
        "\n",
        "rawDataDefunciones2020 = rawDataDefunciones2020[columnas]\n",
        "print(rawDataDefunciones2020.shape)"
      ]
    },
    {
      "cell_type": "code",
      "execution_count": 129,
      "metadata": {},
      "outputs": [
        {
          "data": {
            "text/plain": [
              "(9039, 59)"
            ]
          },
          "execution_count": 129,
          "metadata": {},
          "output_type": "execute_result"
        }
      ],
      "source": [
        "rawDataDefunciones = pd.concat([rawDataDefunciones2017, rawDataDefunciones2018, rawDataDefunciones2019, rawDataDefunciones2020, rawDataDefunciones2021])\n",
        "rawDataDefunciones.shape"
      ]
    },
    {
      "cell_type": "markdown",
      "metadata": {},
      "source": [
        "Generamos una columna de datetime"
      ]
    },
    {
      "cell_type": "code",
      "execution_count": 130,
      "metadata": {},
      "outputs": [
        {
          "name": "stdout",
          "output_type": "stream",
          "text": [
            "(9039, 59)\n"
          ]
        }
      ],
      "source": [
        "#rawDataDefunciones = rawDataDefunciones[rawDataDefunciones['dia_regis']<=31]\n",
        "rawDataDefunciones['dia_regis'] = rawDataDefunciones['dia_regis'].apply(lambda x: 28 if x > 31 else x)\n",
        "print(rawDataDefunciones.shape)"
      ]
    },
    {
      "cell_type": "code",
      "execution_count": 131,
      "metadata": {},
      "outputs": [
        {
          "data": {
            "text/html": [
              "<div>\n",
              "<style scoped>\n",
              "    .dataframe tbody tr th:only-of-type {\n",
              "        vertical-align: middle;\n",
              "    }\n",
              "\n",
              "    .dataframe tbody tr th {\n",
              "        vertical-align: top;\n",
              "    }\n",
              "\n",
              "    .dataframe thead th {\n",
              "        text-align: right;\n",
              "    }\n",
              "</style>\n",
              "<table border=\"1\" class=\"dataframe\">\n",
              "  <thead>\n",
              "    <tr style=\"text-align: right;\">\n",
              "      <th></th>\n",
              "      <th>ent_regis</th>\n",
              "      <th>mun_regis</th>\n",
              "      <th>ent_resid</th>\n",
              "      <th>mun_resid</th>\n",
              "      <th>tloc_resid</th>\n",
              "      <th>loc_resid</th>\n",
              "      <th>ent_ocurr</th>\n",
              "      <th>mun_ocurr</th>\n",
              "      <th>tloc_ocurr</th>\n",
              "      <th>loc_ocurr</th>\n",
              "      <th>...</th>\n",
              "      <th>maternas</th>\n",
              "      <th>lengua</th>\n",
              "      <th>cond_act</th>\n",
              "      <th>par_agre</th>\n",
              "      <th>ent_ocules</th>\n",
              "      <th>mun_ocules</th>\n",
              "      <th>loc_ocules</th>\n",
              "      <th>razon_m</th>\n",
              "      <th>dis_re_oax</th>\n",
              "      <th>fechaRegistro</th>\n",
              "    </tr>\n",
              "  </thead>\n",
              "  <tbody>\n",
              "    <tr>\n",
              "      <th>6468</th>\n",
              "      <td>2</td>\n",
              "      <td>2</td>\n",
              "      <td>26</td>\n",
              "      <td>55</td>\n",
              "      <td>13</td>\n",
              "      <td>1</td>\n",
              "      <td>2</td>\n",
              "      <td>2</td>\n",
              "      <td>15</td>\n",
              "      <td>1</td>\n",
              "      <td>...</td>\n",
              "      <td>None</td>\n",
              "      <td>9</td>\n",
              "      <td>9</td>\n",
              "      <td>88</td>\n",
              "      <td>88</td>\n",
              "      <td>888</td>\n",
              "      <td>8888</td>\n",
              "      <td>0</td>\n",
              "      <td>999</td>\n",
              "      <td>2017-02-24</td>\n",
              "    </tr>\n",
              "    <tr>\n",
              "      <th>6489</th>\n",
              "      <td>2</td>\n",
              "      <td>2</td>\n",
              "      <td>26</td>\n",
              "      <td>55</td>\n",
              "      <td>13</td>\n",
              "      <td>1</td>\n",
              "      <td>2</td>\n",
              "      <td>2</td>\n",
              "      <td>15</td>\n",
              "      <td>1</td>\n",
              "      <td>...</td>\n",
              "      <td>None</td>\n",
              "      <td>9</td>\n",
              "      <td>1</td>\n",
              "      <td>88</td>\n",
              "      <td>88</td>\n",
              "      <td>888</td>\n",
              "      <td>8888</td>\n",
              "      <td>0</td>\n",
              "      <td>999</td>\n",
              "      <td>2017-02-20</td>\n",
              "    </tr>\n",
              "    <tr>\n",
              "      <th>6612</th>\n",
              "      <td>2</td>\n",
              "      <td>2</td>\n",
              "      <td>26</td>\n",
              "      <td>55</td>\n",
              "      <td>13</td>\n",
              "      <td>1</td>\n",
              "      <td>2</td>\n",
              "      <td>2</td>\n",
              "      <td>15</td>\n",
              "      <td>1</td>\n",
              "      <td>...</td>\n",
              "      <td>None</td>\n",
              "      <td>9</td>\n",
              "      <td>1</td>\n",
              "      <td>88</td>\n",
              "      <td>88</td>\n",
              "      <td>888</td>\n",
              "      <td>8888</td>\n",
              "      <td>0</td>\n",
              "      <td>999</td>\n",
              "      <td>2017-01-20</td>\n",
              "    </tr>\n",
              "    <tr>\n",
              "      <th>8834</th>\n",
              "      <td>2</td>\n",
              "      <td>2</td>\n",
              "      <td>26</td>\n",
              "      <td>55</td>\n",
              "      <td>13</td>\n",
              "      <td>1</td>\n",
              "      <td>2</td>\n",
              "      <td>2</td>\n",
              "      <td>15</td>\n",
              "      <td>1</td>\n",
              "      <td>...</td>\n",
              "      <td>None</td>\n",
              "      <td>9</td>\n",
              "      <td>2</td>\n",
              "      <td>88</td>\n",
              "      <td>88</td>\n",
              "      <td>888</td>\n",
              "      <td>8888</td>\n",
              "      <td>0</td>\n",
              "      <td>999</td>\n",
              "      <td>2017-01-09</td>\n",
              "    </tr>\n",
              "    <tr>\n",
              "      <th>9278</th>\n",
              "      <td>2</td>\n",
              "      <td>2</td>\n",
              "      <td>26</td>\n",
              "      <td>55</td>\n",
              "      <td>13</td>\n",
              "      <td>1</td>\n",
              "      <td>2</td>\n",
              "      <td>2</td>\n",
              "      <td>15</td>\n",
              "      <td>1</td>\n",
              "      <td>...</td>\n",
              "      <td>None</td>\n",
              "      <td>1</td>\n",
              "      <td>2</td>\n",
              "      <td>88</td>\n",
              "      <td>88</td>\n",
              "      <td>888</td>\n",
              "      <td>8888</td>\n",
              "      <td>0</td>\n",
              "      <td>999</td>\n",
              "      <td>2017-02-11</td>\n",
              "    </tr>\n",
              "  </tbody>\n",
              "</table>\n",
              "<p>5 rows × 60 columns</p>\n",
              "</div>"
            ],
            "text/plain": [
              "      ent_regis  mun_regis  ent_resid  mun_resid  tloc_resid  loc_resid  \\\n",
              "6468          2          2         26         55          13          1   \n",
              "6489          2          2         26         55          13          1   \n",
              "6612          2          2         26         55          13          1   \n",
              "8834          2          2         26         55          13          1   \n",
              "9278          2          2         26         55          13          1   \n",
              "\n",
              "      ent_ocurr  mun_ocurr  tloc_ocurr  loc_ocurr  ... maternas lengua  \\\n",
              "6468          2          2          15          1  ...     None      9   \n",
              "6489          2          2          15          1  ...     None      9   \n",
              "6612          2          2          15          1  ...     None      9   \n",
              "8834          2          2          15          1  ...     None      9   \n",
              "9278          2          2          15          1  ...     None      1   \n",
              "\n",
              "      cond_act  par_agre  ent_ocules  mun_ocules  loc_ocules  razon_m  \\\n",
              "6468         9        88          88         888        8888        0   \n",
              "6489         1        88          88         888        8888        0   \n",
              "6612         1        88          88         888        8888        0   \n",
              "8834         2        88          88         888        8888        0   \n",
              "9278         2        88          88         888        8888        0   \n",
              "\n",
              "      dis_re_oax  fechaRegistro  \n",
              "6468         999     2017-02-24  \n",
              "6489         999     2017-02-20  \n",
              "6612         999     2017-01-20  \n",
              "8834         999     2017-01-09  \n",
              "9278         999     2017-02-11  \n",
              "\n",
              "[5 rows x 60 columns]"
            ]
          },
          "execution_count": 131,
          "metadata": {},
          "output_type": "execute_result"
        }
      ],
      "source": [
        "rawDataDefunciones['fechaRegistro'] = rawDataDefunciones['anio_regis'].astype(str) + rawDataDefunciones['mes_regis'].apply(lambda x: '{0:0>2}'.format(x)) + rawDataDefunciones['dia_regis'].apply(lambda x: '{0:0>2}'.format(x))\n",
        "rawDataDefunciones['fechaRegistro'] = pd.to_datetime(rawDataDefunciones['fechaRegistro'])\n",
        "rawDataDefunciones.head()\n"
      ]
    },
    {
      "cell_type": "code",
      "execution_count": 132,
      "metadata": {
        "colab": {
          "base_uri": "https://localhost:8080/",
          "height": 206
        },
        "id": "2y4tQNehnAgD",
        "outputId": "d54a2844-3965-4d15-88c1-e2d884ebe09a"
      },
      "outputs": [
        {
          "data": {
            "text/html": [
              "<div>\n",
              "<style scoped>\n",
              "    .dataframe tbody tr th:only-of-type {\n",
              "        vertical-align: middle;\n",
              "    }\n",
              "\n",
              "    .dataframe tbody tr th {\n",
              "        vertical-align: top;\n",
              "    }\n",
              "\n",
              "    .dataframe thead th {\n",
              "        text-align: right;\n",
              "    }\n",
              "</style>\n",
              "<table border=\"1\" class=\"dataframe\">\n",
              "  <thead>\n",
              "    <tr style=\"text-align: right;\">\n",
              "      <th></th>\n",
              "      <th>mun_resid</th>\n",
              "      <th>fechaRegistro</th>\n",
              "      <th>tloc_resid</th>\n",
              "      <th>ocupacion</th>\n",
              "      <th>sexo</th>\n",
              "      <th>edad</th>\n",
              "      <th>asist_medi</th>\n",
              "      <th>sitio_ocur</th>\n",
              "      <th>lengua</th>\n",
              "    </tr>\n",
              "  </thead>\n",
              "  <tbody>\n",
              "    <tr>\n",
              "      <th>6468</th>\n",
              "      <td>55</td>\n",
              "      <td>2017-02-24</td>\n",
              "      <td>13</td>\n",
              "      <td>99</td>\n",
              "      <td>1</td>\n",
              "      <td>4072</td>\n",
              "      <td>1</td>\n",
              "      <td>4</td>\n",
              "      <td>9</td>\n",
              "    </tr>\n",
              "    <tr>\n",
              "      <th>6489</th>\n",
              "      <td>55</td>\n",
              "      <td>2017-02-20</td>\n",
              "      <td>13</td>\n",
              "      <td>8</td>\n",
              "      <td>1</td>\n",
              "      <td>4028</td>\n",
              "      <td>1</td>\n",
              "      <td>3</td>\n",
              "      <td>9</td>\n",
              "    </tr>\n",
              "    <tr>\n",
              "      <th>6612</th>\n",
              "      <td>55</td>\n",
              "      <td>2017-01-20</td>\n",
              "      <td>13</td>\n",
              "      <td>9</td>\n",
              "      <td>1</td>\n",
              "      <td>4056</td>\n",
              "      <td>1</td>\n",
              "      <td>3</td>\n",
              "      <td>9</td>\n",
              "    </tr>\n",
              "    <tr>\n",
              "      <th>8834</th>\n",
              "      <td>55</td>\n",
              "      <td>2017-01-09</td>\n",
              "      <td>13</td>\n",
              "      <td>11</td>\n",
              "      <td>2</td>\n",
              "      <td>4078</td>\n",
              "      <td>1</td>\n",
              "      <td>9</td>\n",
              "      <td>9</td>\n",
              "    </tr>\n",
              "    <tr>\n",
              "      <th>9278</th>\n",
              "      <td>55</td>\n",
              "      <td>2017-02-11</td>\n",
              "      <td>13</td>\n",
              "      <td>11</td>\n",
              "      <td>2</td>\n",
              "      <td>4071</td>\n",
              "      <td>1</td>\n",
              "      <td>3</td>\n",
              "      <td>1</td>\n",
              "    </tr>\n",
              "  </tbody>\n",
              "</table>\n",
              "</div>"
            ],
            "text/plain": [
              "      mun_resid fechaRegistro  tloc_resid  ocupacion  sexo  edad  asist_medi  \\\n",
              "6468         55    2017-02-24          13         99     1  4072           1   \n",
              "6489         55    2017-02-20          13          8     1  4028           1   \n",
              "6612         55    2017-01-20          13          9     1  4056           1   \n",
              "8834         55    2017-01-09          13         11     2  4078           1   \n",
              "9278         55    2017-02-11          13         11     2  4071           1   \n",
              "\n",
              "      sitio_ocur  lengua  \n",
              "6468           4       9  \n",
              "6489           3       9  \n",
              "6612           3       9  \n",
              "8834           9       9  \n",
              "9278           3       1  "
            ]
          },
          "execution_count": 132,
          "metadata": {},
          "output_type": "execute_result"
        }
      ],
      "source": [
        "rawDataDefunciones = rawDataDefunciones[[\"mun_resid\",\"fechaRegistro\", \"tloc_resid\", \"ocupacion\", \"sexo\", \"edad\", \"asist_medi\", \"sitio_ocur\", \"lengua\"]]\n",
        "rawDataDefunciones.head()"
      ]
    },
    {
      "cell_type": "markdown",
      "metadata": {},
      "source": [
        "Revisamos los tipos de datos"
      ]
    },
    {
      "cell_type": "code",
      "execution_count": 133,
      "metadata": {
        "colab": {
          "base_uri": "https://localhost:8080/"
        },
        "id": "itjjcqAHfmr_",
        "outputId": "2736c899-5a09-4067-aa59-f3bb990deba0"
      },
      "outputs": [
        {
          "name": "stdout",
          "output_type": "stream",
          "text": [
            "<class 'pandas.core.frame.DataFrame'>\n",
            "Int64Index: 9039 entries, 6468 to 950254\n",
            "Data columns (total 9 columns):\n",
            " #   Column         Non-Null Count  Dtype         \n",
            "---  ------         --------------  -----         \n",
            " 0   mun_resid      9039 non-null   int64         \n",
            " 1   fechaRegistro  9039 non-null   datetime64[ns]\n",
            " 2   tloc_resid     9039 non-null   int64         \n",
            " 3   ocupacion      9039 non-null   int64         \n",
            " 4   sexo           9039 non-null   int64         \n",
            " 5   edad           9039 non-null   int64         \n",
            " 6   asist_medi     9039 non-null   int64         \n",
            " 7   sitio_ocur     9039 non-null   int64         \n",
            " 8   lengua         9039 non-null   int64         \n",
            "dtypes: datetime64[ns](1), int64(8)\n",
            "memory usage: 706.2 KB\n"
          ]
        }
      ],
      "source": [
        "rawDataDefunciones.info()"
      ]
    },
    {
      "cell_type": "markdown",
      "metadata": {
        "id": "Fu4i1aFlRr2v"
      },
      "source": [
        "Vamos a generar columnas con las descripciones que corresponden a algunas variables, ya que estas están representadas con números pero realmente son variables categóricas"
      ]
    },
    {
      "cell_type": "code",
      "execution_count": 134,
      "metadata": {},
      "outputs": [],
      "source": [
        "rawDataHabitantes[\"Codigo_Municipio\"] = pd.to_numeric(rawDataHabitantes[\"Codigo_Municipio\"])\n",
        "df_1 = pd.merge(rawDataDefunciones, rawDataHabitantes, how='left', left_on='mun_resid', right_on='Codigo_Municipio')"
      ]
    },
    {
      "cell_type": "code",
      "execution_count": 135,
      "metadata": {},
      "outputs": [],
      "source": [
        "ruta_archivos = \"./data/fuente_5/catalogos/\"\n",
        "tamanio_loc = pd.read_csv(ruta_archivos + 'tamaño_localidad.csv', encoding='latin-1')\n",
        "df_2 = pd.merge(df_1, tamanio_loc, how='left', left_on='tloc_resid', right_on='CVE')\n",
        "df_2.rename(columns={ df_2.columns[13]: \"tam_localidad\" }, inplace = True)\n"
      ]
    },
    {
      "cell_type": "code",
      "execution_count": 136,
      "metadata": {},
      "outputs": [],
      "source": [
        "ruta_archivos = \"./data/fuente_5/catalogos/\"\n",
        "ocupacion = pd.read_csv(ruta_archivos + 'ocupacion.csv', encoding='latin-1')\n",
        "df_3 = pd.merge(df_2, ocupacion, how='left', left_on='ocupacion', right_on='CVE')\n",
        "df_3.rename(columns={ df_3.columns[15]: \"descr_ocupacion\" }, inplace = True)\n"
      ]
    },
    {
      "cell_type": "code",
      "execution_count": 137,
      "metadata": {},
      "outputs": [],
      "source": [
        "ruta_archivos = \"./data/fuente_5/catalogos/\"\n",
        "sexo = pd.read_csv(ruta_archivos + 'sexo.csv', encoding='latin-1')\n",
        "df_4 = pd.merge(df_3, sexo, how='left', left_on='sexo', right_on='CVE')\n",
        "df_4.rename(columns={ df_4.columns[17]: \"descr_sexo\" }, inplace = True)"
      ]
    },
    {
      "cell_type": "code",
      "execution_count": 138,
      "metadata": {},
      "outputs": [
        {
          "name": "stderr",
          "output_type": "stream",
          "text": [
            "C:\\Users\\ferna\\AppData\\Local\\Temp\\ipykernel_3800\\3317154665.py:3: FutureWarning: Passing 'suffixes' which cause duplicate columns {'CVE_x'} in the result is deprecated and will raise a MergeError in a future version.\n",
            "  df_5 = pd.merge(df_4, asist_medi, how='left', left_on='asist_medi', right_on='CVE')\n"
          ]
        }
      ],
      "source": [
        "ruta_archivos = \"./data/fuente_5/catalogos/\"\n",
        "asist_medi = pd.read_csv(ruta_archivos + 'asistencia_medica.csv', encoding='latin-1')\n",
        "df_5 = pd.merge(df_4, asist_medi, how='left', left_on='asist_medi', right_on='CVE')\n",
        "df_5.rename(columns={ df_5.columns[19]: \"descr_asist_medi\" }, inplace = True)"
      ]
    },
    {
      "cell_type": "code",
      "execution_count": 139,
      "metadata": {},
      "outputs": [],
      "source": [
        "ruta_archivos = \"./data/fuente_5/catalogos/\"\n",
        "sitio_ocur = pd.read_csv(ruta_archivos + 'sitio_ocurrencia.csv', encoding='latin-1')\n",
        "df_6 = pd.merge(df_5, sitio_ocur, how='left', left_on='sitio_ocur', right_on='CVE')\n",
        "df_6.rename(columns={ df_6.columns[21]: \"descr_sitio_ocur\" }, inplace = True)"
      ]
    },
    {
      "cell_type": "code",
      "execution_count": 140,
      "metadata": {},
      "outputs": [
        {
          "name": "stderr",
          "output_type": "stream",
          "text": [
            "C:\\Users\\ferna\\AppData\\Local\\Temp\\ipykernel_3800\\837637220.py:3: FutureWarning: Passing 'suffixes' which cause duplicate columns {'CVE_x'} in the result is deprecated and will raise a MergeError in a future version.\n",
            "  df_7 = pd.merge(df_6, lengua, how='left', left_on='lengua', right_on='CVE')\n"
          ]
        }
      ],
      "source": [
        "ruta_archivos = \"./data/fuente_5/catalogos/\"\n",
        "lengua = pd.read_csv(ruta_archivos + 'lengua_indigena.csv', encoding='latin-1')\n",
        "df_7 = pd.merge(df_6, lengua, how='left', left_on='lengua', right_on='CVE')\n",
        "df_7.rename(columns={ df_7.columns[23]: \"descr_lengua\" }, inplace = True)"
      ]
    },
    {
      "cell_type": "code",
      "execution_count": 141,
      "metadata": {},
      "outputs": [
        {
          "name": "stderr",
          "output_type": "stream",
          "text": [
            "C:\\Users\\ferna\\AppData\\Local\\Temp\\ipykernel_3800\\2058429356.py:2: SettingWithCopyWarning: \n",
            "A value is trying to be set on a copy of a slice from a DataFrame\n",
            "\n",
            "See the caveats in the documentation: https://pandas.pydata.org/pandas-docs/stable/user_guide/indexing.html#returning-a-view-versus-a-copy\n",
            "  df_8.rename(columns={ df_8.columns[12]: \"x\" }, inplace = True)\n"
          ]
        }
      ],
      "source": [
        "df_8 = df_7[df_7['mun_resid']!=999]\n",
        "df_8.rename(columns={ df_8.columns[12]: \"x\" }, inplace = True)"
      ]
    },
    {
      "cell_type": "code",
      "execution_count": 142,
      "metadata": {},
      "outputs": [
        {
          "data": {
            "text/html": [
              "<div>\n",
              "<style scoped>\n",
              "    .dataframe tbody tr th:only-of-type {\n",
              "        vertical-align: middle;\n",
              "    }\n",
              "\n",
              "    .dataframe tbody tr th {\n",
              "        vertical-align: top;\n",
              "    }\n",
              "\n",
              "    .dataframe thead th {\n",
              "        text-align: right;\n",
              "    }\n",
              "</style>\n",
              "<table border=\"1\" class=\"dataframe\">\n",
              "  <thead>\n",
              "    <tr style=\"text-align: right;\">\n",
              "      <th></th>\n",
              "      <th>mun_resid</th>\n",
              "      <th>fechaRegistro</th>\n",
              "      <th>tloc_resid</th>\n",
              "      <th>ocupacion</th>\n",
              "      <th>sexo</th>\n",
              "      <th>edad</th>\n",
              "      <th>asist_medi</th>\n",
              "      <th>sitio_ocur</th>\n",
              "      <th>lengua</th>\n",
              "      <th>Codigo_Municipio</th>\n",
              "      <th>...</th>\n",
              "      <th>descr_ocupacion</th>\n",
              "      <th>x</th>\n",
              "      <th>descr_sexo</th>\n",
              "      <th>CVE_y</th>\n",
              "      <th>descr_asist_medi</th>\n",
              "      <th>x</th>\n",
              "      <th>descr_sitio_ocur</th>\n",
              "      <th>CVE_y</th>\n",
              "      <th>descr_lengua</th>\n",
              "      <th>Edad</th>\n",
              "    </tr>\n",
              "  </thead>\n",
              "  <tbody>\n",
              "    <tr>\n",
              "      <th>0</th>\n",
              "      <td>55</td>\n",
              "      <td>2017-02-24</td>\n",
              "      <td>13</td>\n",
              "      <td>99</td>\n",
              "      <td>1</td>\n",
              "      <td>4072</td>\n",
              "      <td>1</td>\n",
              "      <td>4</td>\n",
              "      <td>9</td>\n",
              "      <td>55.0</td>\n",
              "      <td>...</td>\n",
              "      <td>No especificada</td>\n",
              "      <td>1</td>\n",
              "      <td>Hombre</td>\n",
              "      <td>1</td>\n",
              "      <td>Con asistencia médica</td>\n",
              "      <td>4</td>\n",
              "      <td>ISSSTE</td>\n",
              "      <td>9</td>\n",
              "      <td>Se ignora</td>\n",
              "      <td>72</td>\n",
              "    </tr>\n",
              "    <tr>\n",
              "      <th>1</th>\n",
              "      <td>55</td>\n",
              "      <td>2017-02-20</td>\n",
              "      <td>13</td>\n",
              "      <td>8</td>\n",
              "      <td>1</td>\n",
              "      <td>4028</td>\n",
              "      <td>1</td>\n",
              "      <td>3</td>\n",
              "      <td>9</td>\n",
              "      <td>55.0</td>\n",
              "      <td>...</td>\n",
              "      <td>Operadores de maquinaria industrial, ensamblad...</td>\n",
              "      <td>1</td>\n",
              "      <td>Hombre</td>\n",
              "      <td>1</td>\n",
              "      <td>Con asistencia médica</td>\n",
              "      <td>3</td>\n",
              "      <td>IMSS</td>\n",
              "      <td>9</td>\n",
              "      <td>Se ignora</td>\n",
              "      <td>28</td>\n",
              "    </tr>\n",
              "    <tr>\n",
              "      <th>2</th>\n",
              "      <td>55</td>\n",
              "      <td>2017-01-20</td>\n",
              "      <td>13</td>\n",
              "      <td>9</td>\n",
              "      <td>1</td>\n",
              "      <td>4056</td>\n",
              "      <td>1</td>\n",
              "      <td>3</td>\n",
              "      <td>9</td>\n",
              "      <td>55.0</td>\n",
              "      <td>...</td>\n",
              "      <td>Trabajadores en actividades elementales y de a...</td>\n",
              "      <td>1</td>\n",
              "      <td>Hombre</td>\n",
              "      <td>1</td>\n",
              "      <td>Con asistencia médica</td>\n",
              "      <td>3</td>\n",
              "      <td>IMSS</td>\n",
              "      <td>9</td>\n",
              "      <td>Se ignora</td>\n",
              "      <td>56</td>\n",
              "    </tr>\n",
              "    <tr>\n",
              "      <th>3</th>\n",
              "      <td>55</td>\n",
              "      <td>2017-01-09</td>\n",
              "      <td>13</td>\n",
              "      <td>11</td>\n",
              "      <td>2</td>\n",
              "      <td>4078</td>\n",
              "      <td>1</td>\n",
              "      <td>9</td>\n",
              "      <td>9</td>\n",
              "      <td>55.0</td>\n",
              "      <td>...</td>\n",
              "      <td>No trabaja</td>\n",
              "      <td>2</td>\n",
              "      <td>Mujer</td>\n",
              "      <td>1</td>\n",
              "      <td>Con asistencia médica</td>\n",
              "      <td>9</td>\n",
              "      <td>Unidad médica privada</td>\n",
              "      <td>9</td>\n",
              "      <td>Se ignora</td>\n",
              "      <td>78</td>\n",
              "    </tr>\n",
              "    <tr>\n",
              "      <th>4</th>\n",
              "      <td>55</td>\n",
              "      <td>2017-02-11</td>\n",
              "      <td>13</td>\n",
              "      <td>11</td>\n",
              "      <td>2</td>\n",
              "      <td>4071</td>\n",
              "      <td>1</td>\n",
              "      <td>3</td>\n",
              "      <td>1</td>\n",
              "      <td>55.0</td>\n",
              "      <td>...</td>\n",
              "      <td>No trabaja</td>\n",
              "      <td>2</td>\n",
              "      <td>Mujer</td>\n",
              "      <td>1</td>\n",
              "      <td>Con asistencia médica</td>\n",
              "      <td>3</td>\n",
              "      <td>IMSS</td>\n",
              "      <td>1</td>\n",
              "      <td>Sí</td>\n",
              "      <td>71</td>\n",
              "    </tr>\n",
              "    <tr>\n",
              "      <th>...</th>\n",
              "      <td>...</td>\n",
              "      <td>...</td>\n",
              "      <td>...</td>\n",
              "      <td>...</td>\n",
              "      <td>...</td>\n",
              "      <td>...</td>\n",
              "      <td>...</td>\n",
              "      <td>...</td>\n",
              "      <td>...</td>\n",
              "      <td>...</td>\n",
              "      <td>...</td>\n",
              "      <td>...</td>\n",
              "      <td>...</td>\n",
              "      <td>...</td>\n",
              "      <td>...</td>\n",
              "      <td>...</td>\n",
              "      <td>...</td>\n",
              "      <td>...</td>\n",
              "      <td>...</td>\n",
              "      <td>...</td>\n",
              "      <td>...</td>\n",
              "    </tr>\n",
              "    <tr>\n",
              "      <th>9034</th>\n",
              "      <td>18</td>\n",
              "      <td>2021-12-15</td>\n",
              "      <td>14</td>\n",
              "      <td>11</td>\n",
              "      <td>1</td>\n",
              "      <td>4078</td>\n",
              "      <td>1</td>\n",
              "      <td>11</td>\n",
              "      <td>2</td>\n",
              "      <td>18.0</td>\n",
              "      <td>...</td>\n",
              "      <td>No trabaja</td>\n",
              "      <td>1</td>\n",
              "      <td>Hombre</td>\n",
              "      <td>1</td>\n",
              "      <td>Con asistencia médica</td>\n",
              "      <td>11</td>\n",
              "      <td>Hogar</td>\n",
              "      <td>2</td>\n",
              "      <td>No</td>\n",
              "      <td>78</td>\n",
              "    </tr>\n",
              "    <tr>\n",
              "      <th>9035</th>\n",
              "      <td>55</td>\n",
              "      <td>2021-12-28</td>\n",
              "      <td>13</td>\n",
              "      <td>5</td>\n",
              "      <td>1</td>\n",
              "      <td>4070</td>\n",
              "      <td>1</td>\n",
              "      <td>11</td>\n",
              "      <td>2</td>\n",
              "      <td>55.0</td>\n",
              "      <td>...</td>\n",
              "      <td>Trabajadores en servicios personales y vigilancia</td>\n",
              "      <td>1</td>\n",
              "      <td>Hombre</td>\n",
              "      <td>1</td>\n",
              "      <td>Con asistencia médica</td>\n",
              "      <td>11</td>\n",
              "      <td>Hogar</td>\n",
              "      <td>2</td>\n",
              "      <td>No</td>\n",
              "      <td>70</td>\n",
              "    </tr>\n",
              "    <tr>\n",
              "      <th>9036</th>\n",
              "      <td>42</td>\n",
              "      <td>2021-12-23</td>\n",
              "      <td>2</td>\n",
              "      <td>11</td>\n",
              "      <td>2</td>\n",
              "      <td>4061</td>\n",
              "      <td>2</td>\n",
              "      <td>3</td>\n",
              "      <td>2</td>\n",
              "      <td>42.0</td>\n",
              "      <td>...</td>\n",
              "      <td>No trabaja</td>\n",
              "      <td>2</td>\n",
              "      <td>Mujer</td>\n",
              "      <td>2</td>\n",
              "      <td>Sin asistencia médica</td>\n",
              "      <td>3</td>\n",
              "      <td>IMSS</td>\n",
              "      <td>2</td>\n",
              "      <td>No</td>\n",
              "      <td>61</td>\n",
              "    </tr>\n",
              "    <tr>\n",
              "      <th>9037</th>\n",
              "      <td>55</td>\n",
              "      <td>2021-12-15</td>\n",
              "      <td>1</td>\n",
              "      <td>11</td>\n",
              "      <td>2</td>\n",
              "      <td>4061</td>\n",
              "      <td>1</td>\n",
              "      <td>11</td>\n",
              "      <td>2</td>\n",
              "      <td>55.0</td>\n",
              "      <td>...</td>\n",
              "      <td>No trabaja</td>\n",
              "      <td>2</td>\n",
              "      <td>Mujer</td>\n",
              "      <td>1</td>\n",
              "      <td>Con asistencia médica</td>\n",
              "      <td>11</td>\n",
              "      <td>Hogar</td>\n",
              "      <td>2</td>\n",
              "      <td>No</td>\n",
              "      <td>61</td>\n",
              "    </tr>\n",
              "    <tr>\n",
              "      <th>9038</th>\n",
              "      <td>30</td>\n",
              "      <td>2021-01-17</td>\n",
              "      <td>15</td>\n",
              "      <td>11</td>\n",
              "      <td>1</td>\n",
              "      <td>4067</td>\n",
              "      <td>1</td>\n",
              "      <td>3</td>\n",
              "      <td>2</td>\n",
              "      <td>30.0</td>\n",
              "      <td>...</td>\n",
              "      <td>No trabaja</td>\n",
              "      <td>1</td>\n",
              "      <td>Hombre</td>\n",
              "      <td>1</td>\n",
              "      <td>Con asistencia médica</td>\n",
              "      <td>3</td>\n",
              "      <td>IMSS</td>\n",
              "      <td>2</td>\n",
              "      <td>No</td>\n",
              "      <td>67</td>\n",
              "    </tr>\n",
              "  </tbody>\n",
              "</table>\n",
              "<p>9034 rows × 25 columns</p>\n",
              "</div>"
            ],
            "text/plain": [
              "      mun_resid fechaRegistro  tloc_resid  ocupacion  sexo  edad  asist_medi  \\\n",
              "0            55    2017-02-24          13         99     1  4072           1   \n",
              "1            55    2017-02-20          13          8     1  4028           1   \n",
              "2            55    2017-01-20          13          9     1  4056           1   \n",
              "3            55    2017-01-09          13         11     2  4078           1   \n",
              "4            55    2017-02-11          13         11     2  4071           1   \n",
              "...         ...           ...         ...        ...   ...   ...         ...   \n",
              "9034         18    2021-12-15          14         11     1  4078           1   \n",
              "9035         55    2021-12-28          13          5     1  4070           1   \n",
              "9036         42    2021-12-23           2         11     2  4061           2   \n",
              "9037         55    2021-12-15           1         11     2  4061           1   \n",
              "9038         30    2021-01-17          15         11     1  4067           1   \n",
              "\n",
              "      sitio_ocur  lengua  Codigo_Municipio  ...  \\\n",
              "0              4       9              55.0  ...   \n",
              "1              3       9              55.0  ...   \n",
              "2              3       9              55.0  ...   \n",
              "3              9       9              55.0  ...   \n",
              "4              3       1              55.0  ...   \n",
              "...          ...     ...               ...  ...   \n",
              "9034          11       2              18.0  ...   \n",
              "9035          11       2              55.0  ...   \n",
              "9036           3       2              42.0  ...   \n",
              "9037          11       2              55.0  ...   \n",
              "9038           3       2              30.0  ...   \n",
              "\n",
              "                                        descr_ocupacion  x  descr_sexo CVE_y  \\\n",
              "0                                       No especificada  1      Hombre     1   \n",
              "1     Operadores de maquinaria industrial, ensamblad...  1      Hombre     1   \n",
              "2     Trabajadores en actividades elementales y de a...  1      Hombre     1   \n",
              "3                                            No trabaja  2       Mujer     1   \n",
              "4                                            No trabaja  2       Mujer     1   \n",
              "...                                                 ... ..         ...   ...   \n",
              "9034                                         No trabaja  1      Hombre     1   \n",
              "9035  Trabajadores en servicios personales y vigilancia  1      Hombre     1   \n",
              "9036                                         No trabaja  2       Mujer     2   \n",
              "9037                                         No trabaja  2       Mujer     1   \n",
              "9038                                         No trabaja  1      Hombre     1   \n",
              "\n",
              "           descr_asist_medi   x       descr_sitio_ocur CVE_y  descr_lengua  \\\n",
              "0     Con asistencia médica   4                 ISSSTE     9     Se ignora   \n",
              "1     Con asistencia médica   3                   IMSS     9     Se ignora   \n",
              "2     Con asistencia médica   3                   IMSS     9     Se ignora   \n",
              "3     Con asistencia médica   9  Unidad médica privada     9     Se ignora   \n",
              "4     Con asistencia médica   3                   IMSS     1            Sí   \n",
              "...                     ...  ..                    ...   ...           ...   \n",
              "9034  Con asistencia médica  11                  Hogar     2            No   \n",
              "9035  Con asistencia médica  11                  Hogar     2            No   \n",
              "9036  Sin asistencia médica   3                   IMSS     2            No   \n",
              "9037  Con asistencia médica  11                  Hogar     2            No   \n",
              "9038  Con asistencia médica   3                   IMSS     2            No   \n",
              "\n",
              "     Edad  \n",
              "0      72  \n",
              "1      28  \n",
              "2      56  \n",
              "3      78  \n",
              "4      71  \n",
              "...   ...  \n",
              "9034   78  \n",
              "9035   70  \n",
              "9036   61  \n",
              "9037   61  \n",
              "9038   67  \n",
              "\n",
              "[9034 rows x 25 columns]"
            ]
          },
          "execution_count": 142,
          "metadata": {},
          "output_type": "execute_result"
        }
      ],
      "source": [
        "valores = [4998] # Valor no especificado\n",
        "df_8 = df_8[-df_8[\"edad\"].isin(valores)] # Agregamos el simbolo \"-\" para filtrar los valores que no estén en el df\n",
        "df_8[\"Edad\"] = df_8['edad'].apply(lambda x: 1 if x <= 4001 else x - 4000)\n",
        "df_8"
      ]
    },
    {
      "cell_type": "code",
      "execution_count": 143,
      "metadata": {},
      "outputs": [
        {
          "data": {
            "text/html": [
              "<div>\n",
              "<style scoped>\n",
              "    .dataframe tbody tr th:only-of-type {\n",
              "        vertical-align: middle;\n",
              "    }\n",
              "\n",
              "    .dataframe tbody tr th {\n",
              "        vertical-align: top;\n",
              "    }\n",
              "\n",
              "    .dataframe thead th {\n",
              "        text-align: right;\n",
              "    }\n",
              "</style>\n",
              "<table border=\"1\" class=\"dataframe\">\n",
              "  <thead>\n",
              "    <tr style=\"text-align: right;\">\n",
              "      <th></th>\n",
              "      <th>fechaRegistro</th>\n",
              "      <th>Nombre_Municipio</th>\n",
              "      <th>tloc_resid</th>\n",
              "      <th>ocupacion</th>\n",
              "      <th>descr_sexo</th>\n",
              "      <th>Edad</th>\n",
              "      <th>asist_medi</th>\n",
              "      <th>sitio_ocur</th>\n",
              "      <th>lengua</th>\n",
              "    </tr>\n",
              "  </thead>\n",
              "  <tbody>\n",
              "    <tr>\n",
              "      <th>0</th>\n",
              "      <td>2017-02-24</td>\n",
              "      <td>San Luis Río Colorado</td>\n",
              "      <td>13</td>\n",
              "      <td>99</td>\n",
              "      <td>Hombre</td>\n",
              "      <td>72</td>\n",
              "      <td>1</td>\n",
              "      <td>4</td>\n",
              "      <td>9</td>\n",
              "    </tr>\n",
              "    <tr>\n",
              "      <th>1</th>\n",
              "      <td>2017-02-20</td>\n",
              "      <td>San Luis Río Colorado</td>\n",
              "      <td>13</td>\n",
              "      <td>8</td>\n",
              "      <td>Hombre</td>\n",
              "      <td>28</td>\n",
              "      <td>1</td>\n",
              "      <td>3</td>\n",
              "      <td>9</td>\n",
              "    </tr>\n",
              "    <tr>\n",
              "      <th>2</th>\n",
              "      <td>2017-01-20</td>\n",
              "      <td>San Luis Río Colorado</td>\n",
              "      <td>13</td>\n",
              "      <td>9</td>\n",
              "      <td>Hombre</td>\n",
              "      <td>56</td>\n",
              "      <td>1</td>\n",
              "      <td>3</td>\n",
              "      <td>9</td>\n",
              "    </tr>\n",
              "    <tr>\n",
              "      <th>3</th>\n",
              "      <td>2017-01-09</td>\n",
              "      <td>San Luis Río Colorado</td>\n",
              "      <td>13</td>\n",
              "      <td>11</td>\n",
              "      <td>Mujer</td>\n",
              "      <td>78</td>\n",
              "      <td>1</td>\n",
              "      <td>9</td>\n",
              "      <td>9</td>\n",
              "    </tr>\n",
              "    <tr>\n",
              "      <th>4</th>\n",
              "      <td>2017-02-11</td>\n",
              "      <td>San Luis Río Colorado</td>\n",
              "      <td>13</td>\n",
              "      <td>11</td>\n",
              "      <td>Mujer</td>\n",
              "      <td>71</td>\n",
              "      <td>1</td>\n",
              "      <td>3</td>\n",
              "      <td>1</td>\n",
              "    </tr>\n",
              "  </tbody>\n",
              "</table>\n",
              "</div>"
            ],
            "text/plain": [
              "  fechaRegistro       Nombre_Municipio  tloc_resid  ocupacion descr_sexo  \\\n",
              "0    2017-02-24  San Luis Río Colorado          13         99     Hombre   \n",
              "1    2017-02-20  San Luis Río Colorado          13          8     Hombre   \n",
              "2    2017-01-20  San Luis Río Colorado          13          9     Hombre   \n",
              "3    2017-01-09  San Luis Río Colorado          13         11      Mujer   \n",
              "4    2017-02-11  San Luis Río Colorado          13         11      Mujer   \n",
              "\n",
              "   Edad  asist_medi  sitio_ocur  lengua  \n",
              "0    72           1           4       9  \n",
              "1    28           1           3       9  \n",
              "2    56           1           3       9  \n",
              "3    78           1           9       9  \n",
              "4    71           1           3       1  "
            ]
          },
          "execution_count": 143,
          "metadata": {},
          "output_type": "execute_result"
        }
      ],
      "source": [
        "rawDataDefunciones = df_8.iloc[:, [1, 10, 2, 3, 17, 24, 6, 7, 8]]\n",
        "rawDataDefunciones.head()"
      ]
    },
    {
      "cell_type": "code",
      "execution_count": 144,
      "metadata": {
        "colab": {
          "base_uri": "https://localhost:8080/"
        },
        "id": "NRpY17FNrccE",
        "outputId": "5462503a-c131-418b-d37a-e2d2fb4b8455"
      },
      "outputs": [
        {
          "name": "stdout",
          "output_type": "stream",
          "text": [
            "<class 'pandas.core.frame.DataFrame'>\n",
            "Int64Index: 9034 entries, 0 to 9038\n",
            "Data columns (total 9 columns):\n",
            " #   Column            Non-Null Count  Dtype         \n",
            "---  ------            --------------  -----         \n",
            " 0   fechaRegistro     9034 non-null   datetime64[ns]\n",
            " 1   Nombre_Municipio  9034 non-null   object        \n",
            " 2   tloc_resid        9034 non-null   int64         \n",
            " 3   ocupacion         9034 non-null   int64         \n",
            " 4   descr_sexo        9034 non-null   object        \n",
            " 5   Edad              9034 non-null   int64         \n",
            " 6   asist_medi        9034 non-null   int64         \n",
            " 7   sitio_ocur        9034 non-null   int64         \n",
            " 8   lengua            9034 non-null   int64         \n",
            "dtypes: datetime64[ns](1), int64(6), object(2)\n",
            "memory usage: 705.8+ KB\n"
          ]
        }
      ],
      "source": [
        "rawDataDefunciones.info()"
      ]
    },
    {
      "cell_type": "markdown",
      "metadata": {
        "id": "yvZiNMfuFmWZ"
      },
      "source": [
        "Guardamos nuestro dataframe con datos tidy"
      ]
    },
    {
      "cell_type": "code",
      "execution_count": 145,
      "metadata": {
        "id": "EfOJgoOQFxbX"
      },
      "outputs": [],
      "source": [
        "subdir = \"./data/tidy_data/\"\n",
        "if not os.path.exists(subdir):\n",
        "        os.makedirs(subdir)\n",
        "rawDataDefunciones.to_parquet(subdir + 'Tidy_data.parquet')"
      ]
    }
  ],
  "metadata": {
    "colab": {
      "collapsed_sections": [],
      "provenance": []
    },
    "kernelspec": {
      "display_name": "Python 3.10.6 64-bit",
      "language": "python",
      "name": "python3"
    },
    "language_info": {
      "codemirror_mode": {
        "name": "ipython",
        "version": 3
      },
      "file_extension": ".py",
      "mimetype": "text/x-python",
      "name": "python",
      "nbconvert_exporter": "python",
      "pygments_lexer": "ipython3",
      "version": "3.10.6"
    },
    "vscode": {
      "interpreter": {
        "hash": "1cbadf7e30f156f4e0b68f4bca81fa70237e67691d6ebe573bb449e31d409fb8"
      }
    }
  },
  "nbformat": 4,
  "nbformat_minor": 0
}
