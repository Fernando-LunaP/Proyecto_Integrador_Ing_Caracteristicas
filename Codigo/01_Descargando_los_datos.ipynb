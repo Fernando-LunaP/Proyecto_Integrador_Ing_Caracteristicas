{
  "cells": [
    {
      "attachments": {},
      "cell_type": "markdown",
      "metadata": {
        "id": "szRpG9BDFWNJ"
      },
      "source": [
        "<center>\n",
        "<p><img src=\"https://mcd.unison.mx/wp-content/themes/awaken/img/logo_mcd.png\" width=\"150\">\n",
        "</p>\n",
        "\n",
        "\n",
        "\n",
        "<h1>Curso Ingeniería de Características</h1>\n",
        "\n",
        "<h3>Proyecto integrado (parte 1): Descarga de los datos </h3>\n",
        "\n",
        "<p> Alumno </p>\n",
        "<p> Fernando Luna Ponce </p>\n",
        "\n",
        "<p> Profesor </p>\n",
        "<p> Dr. Julio Waissman Vilanova </p>\n",
        "\n",
        "</center>"
      ]
    },
    {
      "cell_type": "markdown",
      "metadata": {
        "id": "a-POTvSgml9a"
      },
      "source": [
        "Para esta parte primero estaremos descargando los datos que nos interesa, esto es las defunciones por diabetes que ocurren en el Estado de Sonora. Para esto estaremos descargando la información sobre las muertes en cada estado de Mexico"
      ]
    },
    {
      "attachments": {},
      "cell_type": "markdown",
      "metadata": {
        "id": "ihlb3meimqIb"
      },
      "source": [
        "Se quiere analizar analizar la distribución de las defunciones por diabetes en el Estado de Sonora, pero hay pocas fuentes en las que se puede encontrar información. Se encontraron dos fuentes que son:  \n",
        "1. La [página](https://www.inegi.org.mx/programas/mortalidad/#Datos_abiertos) de datos abiertos del INEGI que contiene la información de las defunciones.\n",
        "\n",
        "2. [Cuéntame de México](https://cuentame.inegi.org.mx/monografias/informacion/son/poblacion/default.aspx?tema=me&e=26): esta página contiene la información que nos interesa sobre el número de habitantes por municipio en Sonora en el 2020, si bien se podrían encontrar estos datos en otro lugar y con un formato más manejable, se decidió usar la información de esta página  para mostrar además como es el método de web scraping para extraer los datos de una tabla en formato html y almacenar estos en un dataframe."
      ]
    },
    {
      "cell_type": "markdown",
      "metadata": {
        "id": "HKCrpovgnYWY"
      },
      "source": [
        "1. Antes de empezar vamos a cargar la librerías necesarias para la descarga y limpieza de los datos"
      ]
    },
    {
      "cell_type": "code",
      "execution_count": 2,
      "metadata": {
        "id": "nCdf2_x5r7L8"
      },
      "outputs": [],
      "source": [
        "import os  # Para manejo de archivos y directorios\n",
        "import urllib.request # Una forma estandard de descargar datos\n",
        "# import requests # Otra forma no de las librerías de uso comun\n",
        "\n",
        "import datetime # Fecha de descarga\n",
        "import pandas as pd # Solo para ver el archivo descargado\n",
        "import zipfile # Descompresión de archivos\n",
        "import re # Expresiones regulares\n",
        "import csv # Para abrir csv\n",
        "import zipfile # Descompresión de archivos\n",
        "\n",
        "from bs4 import BeautifulSoup\n",
        "import requests\n",
        "\n",
        "import numpy as np"
      ]
    },
    {
      "cell_type": "markdown",
      "metadata": {
        "id": "0vNbNGhmv5ce"
      },
      "source": [
        "A continuación vamos a crear algunas funciones que nos ayudarán a mantener un código más legible además de simplificar las tareas en proyectos posteriores"
      ]
    },
    {
      "cell_type": "code",
      "execution_count": 3,
      "metadata": {
        "id": "QaD55C8o-Ai6"
      },
      "outputs": [],
      "source": [
        "def descargadatos(url, archivo, subdir): #Para descargar un archivo\n",
        "  if not os.path.exists(archivo):\n",
        "    if not os.path.exists(subdir):\n",
        "        os.makedirs(subdir)\n",
        "    # Empezamos a descargar el primer archivo\n",
        "    urllib.request.urlretrieve(url, subdir + archivo)\n",
        "\n",
        "def descomprimeZip(subdir, archivo): # Descomprime el csv y le cambia el nombre\n",
        "    with zipfile.ZipFile(subdir + archivo, \"r\") as zip_ref:\n",
        "        nombre = zip_ref.namelist()\n",
        "        zip_ref.extractall(subdir)"
      ]
    },
    {
      "cell_type": "markdown",
      "metadata": {
        "id": "SqPjJWNtIX49"
      },
      "source": [
        "# Descargando los datos"
      ]
    },
    {
      "cell_type": "markdown",
      "metadata": {
        "id": "kBDpVjl-v2s0"
      },
      "source": [
        "**Descarga datos fuente defunciones:**"
      ]
    },
    {
      "cell_type": "markdown",
      "metadata": {
        "id": "U2icrCCFXCuw"
      },
      "source": [
        "Descargamos los zip y le cambiamos el nombre, luego extraemos las carpetas que contiene y le cambiamos el nombre al csv que nos interesa."
      ]
    },
    {
      "cell_type": "code",
      "execution_count": 4,
      "metadata": {
        "id": "FLaXthmCo0Qx"
      },
      "outputs": [],
      "source": [
        "url_2017 = \"https://www.inegi.org.mx/contenidos/programas/mortalidad/datosabiertos/defunciones/2017/conjunto_de_datos_defunciones_generales_2017_csv.zip\"\n",
        "url_2018 = \"https://www.inegi.org.mx/contenidos/programas/mortalidad/datosabiertos/defunciones/2018/conjunto_de_datos_defunciones_registradas_2018_csv.zip\"\n",
        "url_2019 = \"https://www.inegi.org.mx/contenidos/programas/mortalidad/datosabiertos/defunciones/2019/conjunto_de_datos_defunciones_registradas_2019_csv.zip\"\n",
        "url_2020 = \"https://www.inegi.org.mx/contenidos/programas/mortalidad/datosabiertos/defunciones/2020/conjunto_de_datos_defunciones_registradas_2020_csv.zip\"\n",
        "url_2021 = \"https://www.inegi.org.mx/contenidos/programas/mortalidad/datosabiertos/defunciones/2021/conjunto_de_datos_defunciones_registradas_2021_csv.zip\""
      ]
    },
    {
      "cell_type": "code",
      "execution_count": 5,
      "metadata": {},
      "outputs": [],
      "source": [
        "ruta_archivos = \"./data/Archivos/\"\n",
        "if not os.path.exists(ruta_archivos):\n",
        "    os.makedirs(ruta_archivos)"
      ]
    },
    {
      "cell_type": "code",
      "execution_count": 6,
      "metadata": {},
      "outputs": [],
      "source": [
        "archivoZIP = \"Defunciones_\" + str(2017) + \".zip\"\n",
        "archivoCSV = \"Defunciones_\" + str(2017) + \".csv\"\n",
        "subdir = \"./data/fuente_1/\"\n",
        "\n",
        "descargadatos(url_2017, archivoZIP, subdir)\n",
        "descomprimeZip(subdir, archivoZIP)\n",
        "os.rename(subdir + 'conjunto_de_datos/conjunto_de_datos_defunciones_generales_2017.csv', ruta_archivos + archivoCSV)"
      ]
    },
    {
      "cell_type": "code",
      "execution_count": 7,
      "metadata": {},
      "outputs": [],
      "source": [
        "archivoZIP = \"Defunciones_\" + str(2018) + \".zip\"\n",
        "archivoCSV = \"Defunciones_\" + str(2018) + \".csv\"\n",
        "subdir = \"./data/fuente_2/\"\n",
        "\n",
        "descargadatos(url_2018, archivoZIP, subdir)\n",
        "descomprimeZip(subdir, archivoZIP)\n",
        "os.rename(subdir + 'conjunto_de_datos/conjunto_de_datos_defunciones_registradas_2018.csv', ruta_archivos + archivoCSV)"
      ]
    },
    {
      "cell_type": "code",
      "execution_count": 8,
      "metadata": {},
      "outputs": [],
      "source": [
        "archivoZIP = \"Defunciones_\" + str(2019) + \".zip\"\n",
        "archivoCSV = \"Defunciones_\" + str(2019) + \".csv\"\n",
        "subdir = \"./data/fuente_3/\"\n",
        "\n",
        "descargadatos(url_2019, archivoZIP, subdir)\n",
        "descomprimeZip(subdir, archivoZIP)\n",
        "os.rename(subdir + 'conjunto_de_datos/conjunto_de_datos_defunciones_registradas_2019.csv', ruta_archivos + archivoCSV)"
      ]
    },
    {
      "cell_type": "code",
      "execution_count": 9,
      "metadata": {},
      "outputs": [],
      "source": [
        "archivoZIP = \"Defunciones_\" + str(2020) + \".zip\"\n",
        "archivoCSV = \"Defunciones_\" + str(2020) + \".csv\"\n",
        "subdir = \"./data/fuente_4/\"\n",
        "\n",
        "descargadatos(url_2020, archivoZIP, subdir)\n",
        "descomprimeZip(subdir, archivoZIP)\n",
        "os.rename(subdir + 'conjunto_de_datos/conjunto_de_datos_defunciones_registrados_2020.CSV', ruta_archivos + archivoCSV)"
      ]
    },
    {
      "cell_type": "code",
      "execution_count": 10,
      "metadata": {},
      "outputs": [],
      "source": [
        "archivoZIP = \"Defunciones_\" + str(2021) + \".zip\"\n",
        "archivoCSV = \"Defunciones_\" + str(2021) + \".csv\"\n",
        "subdir = \"./data/fuente_5/\"\n",
        "\n",
        "descargadatos(url_2021, archivoZIP, subdir)\n",
        "descomprimeZip(subdir, archivoZIP)\n",
        "os.rename(subdir + 'conjunto_de_datos/conjunto_de_datos_defunciones_registradas_2021.csv', ruta_archivos + archivoCSV)"
      ]
    },
    {
      "cell_type": "markdown",
      "metadata": {
        "id": "tmO-iyD1Xulb"
      },
      "source": [
        "Guardamos los archivos en dataframes de pandas y verificamos su longitud"
      ]
    },
    {
      "cell_type": "code",
      "execution_count": 11,
      "metadata": {
        "colab": {
          "base_uri": "https://localhost:8080/",
          "height": 299
        },
        "id": "pyZqzwscWz8K",
        "outputId": "a88608cf-8c5c-40b7-adda-a96e7a897bac"
      },
      "outputs": [
        {
          "name": "stdout",
          "output_type": "stream",
          "text": [
            "Tamaño archivo 2017:  (703047, 59)\n",
            "Tamaño archivo 2018:  (722611, 62)\n",
            "Tamaño archivo 2019:  (747784, 59)\n",
            "Tamaño archivo 2020:  (1086743, 59)\n",
            "Tamaño archivo 2021:  (1122249, 59)\n"
          ]
        }
      ],
      "source": [
        "rawDataDefunciones2017 =  pd.read_csv(ruta_archivos + \"Defunciones_2017.csv\")\n",
        "print(\"Tamaño archivo 2017: \", rawDataDefunciones2017.shape)\n",
        "\n",
        "rawDataDefunciones2018 =  pd.read_csv(ruta_archivos + \"Defunciones_2018.csv\")\n",
        "print(\"Tamaño archivo 2018: \", rawDataDefunciones2018.shape)\n",
        "\n",
        "rawDataDefunciones2019 =  pd.read_csv(ruta_archivos + \"Defunciones_2019.csv\")\n",
        "print(\"Tamaño archivo 2019: \", rawDataDefunciones2019.shape)\n",
        "\n",
        "rawDataDefunciones2020 =  pd.read_csv(ruta_archivos + \"Defunciones_2020.csv\")\n",
        "print(\"Tamaño archivo 2020: \", rawDataDefunciones2020.shape)\n",
        "\n",
        "rawDataDefunciones2021 =  pd.read_csv(ruta_archivos + \"Defunciones_2021.csv\")\n",
        "print(\"Tamaño archivo 2021: \", rawDataDefunciones2021.shape)"
      ]
    },
    {
      "cell_type": "markdown",
      "metadata": {
        "id": "t7rqXSdIZYl_"
      },
      "source": [
        "**Descarga datos municipios y habitantes Sonora 2020:**"
      ]
    },
    {
      "cell_type": "markdown",
      "metadata": {
        "id": "ZvMBjgJ6aDSS"
      },
      "source": [
        "Nos interesó una tabla que contiene la información del número de habitantes en Sonora, pero no hay un archivo descargable, por lo que tenemos que hacer web scraping para poder descargar esa información."
      ]
    },
    {
      "cell_type": "code",
      "execution_count": 12,
      "metadata": {
        "id": "4xGQq9ddZ7wW"
      },
      "outputs": [],
      "source": [
        "url_cuentame = \"https://cuentame.inegi.org.mx/monografias/informacion/son/poblacion/default.aspx?tema=me&e=26\"\n",
        "page = requests.get(url_cuentame) # Realizamos la petición a la url solicitada\n",
        "soup = BeautifulSoup(page.content, 'html.parser') # Le damos formato html a la información\n",
        "\n",
        "tabla = soup.find('table', id=\"keywords2\")"
      ]
    },
    {
      "cell_type": "code",
      "execution_count": 13,
      "metadata": {
        "id": "WWL6yv-jatA0"
      },
      "outputs": [],
      "source": [
        "# Generamos listas para almacenar toda la información que deseamos almacenar\n",
        "listaCdMun = list()\n",
        "listaNbMun = list()\n",
        "listaCantidad = list()"
      ]
    },
    {
      "cell_type": "code",
      "execution_count": 14,
      "metadata": {
        "id": "-p0wg3Yia2Hy"
      },
      "outputs": [],
      "source": [
        "filas = tabla.findAll('tr')\n",
        "for i in range(len(filas)):\n",
        "  if i > 0:\n",
        "    columnas = filas[i].findAll('td')\n",
        "    cd_municipio = columnas[0].string\n",
        "    listaCdMun.append(cd_municipio)\n",
        "    nb_municipio = columnas[1].string.replace('    ', ' ')\n",
        "    listaNbMun.append(nb_municipio)\n",
        "    nu_habitantes = columnas[2].string.replace(',', '')\n",
        "    listaCantidad.append(nu_habitantes)"
      ]
    },
    {
      "cell_type": "markdown",
      "metadata": {
        "id": "2wZJQEuubDhC"
      },
      "source": [
        "Generamos nuestro dataframe con toda la información que obtuvimos"
      ]
    },
    {
      "cell_type": "code",
      "execution_count": 15,
      "metadata": {
        "colab": {
          "base_uri": "https://localhost:8080/",
          "height": 206
        },
        "id": "A5E2yxu3a_3x",
        "outputId": "af6dae5e-1317-41f5-b327-9272a721c303"
      },
      "outputs": [
        {
          "data": {
            "text/html": [
              "<div>\n",
              "<style scoped>\n",
              "    .dataframe tbody tr th:only-of-type {\n",
              "        vertical-align: middle;\n",
              "    }\n",
              "\n",
              "    .dataframe tbody tr th {\n",
              "        vertical-align: top;\n",
              "    }\n",
              "\n",
              "    .dataframe thead th {\n",
              "        text-align: right;\n",
              "    }\n",
              "</style>\n",
              "<table border=\"1\" class=\"dataframe\">\n",
              "  <thead>\n",
              "    <tr style=\"text-align: right;\">\n",
              "      <th></th>\n",
              "      <th>Codigo_Municipio</th>\n",
              "      <th>Nombre_Municipio</th>\n",
              "      <th>Cantidad_Habitantes</th>\n",
              "    </tr>\n",
              "  </thead>\n",
              "  <tbody>\n",
              "    <tr>\n",
              "      <th>0</th>\n",
              "      <td>001</td>\n",
              "      <td>Aconchi</td>\n",
              "      <td>2563</td>\n",
              "    </tr>\n",
              "    <tr>\n",
              "      <th>1</th>\n",
              "      <td>002</td>\n",
              "      <td>Agua Prieta</td>\n",
              "      <td>91929</td>\n",
              "    </tr>\n",
              "    <tr>\n",
              "      <th>2</th>\n",
              "      <td>003</td>\n",
              "      <td>Alamos</td>\n",
              "      <td>24976</td>\n",
              "    </tr>\n",
              "    <tr>\n",
              "      <th>3</th>\n",
              "      <td>004</td>\n",
              "      <td>Altar</td>\n",
              "      <td>9492</td>\n",
              "    </tr>\n",
              "    <tr>\n",
              "      <th>4</th>\n",
              "      <td>005</td>\n",
              "      <td>Arivechi</td>\n",
              "      <td>1177</td>\n",
              "    </tr>\n",
              "  </tbody>\n",
              "</table>\n",
              "</div>"
            ],
            "text/plain": [
              "  Codigo_Municipio Nombre_Municipio Cantidad_Habitantes\n",
              "0              001          Aconchi                2563\n",
              "1              002      Agua Prieta               91929\n",
              "2              003           Alamos               24976\n",
              "3              004            Altar                9492\n",
              "4              005         Arivechi                1177"
            ]
          },
          "execution_count": 15,
          "metadata": {},
          "output_type": "execute_result"
        }
      ],
      "source": [
        "rawDataHabitantes = pd.DataFrame({\"Codigo_Municipio\":listaCdMun,\n",
        "                         \"Nombre_Municipio\":listaNbMun,\n",
        "                         \"Cantidad_Habitantes\":listaCantidad})\n",
        "rawDataHabitantes.head()"
      ]
    },
    {
      "cell_type": "markdown",
      "metadata": {
        "id": "qObRWpkwDkz_"
      },
      "source": [
        "# Obtener la información de las defunciones por diabetes del Estado de Sonora"
      ]
    },
    {
      "cell_type": "markdown",
      "metadata": {
        "id": "okXMsYqdIqZx"
      },
      "source": [
        "**Datos defunciones**"
      ]
    },
    {
      "cell_type": "markdown",
      "metadata": {
        "id": "6LL3yGy9I9-g"
      },
      "source": [
        "Tenemos que generar un dataframe y quedarnos con las columnas que nos interesen, tenemos que eliminar las columnas que no nos interesen"
      ]
    },
    {
      "cell_type": "markdown",
      "metadata": {
        "id": "VUpqH30FJ6yf"
      },
      "source": [
        "Después de observar la composición de estos dataframes vemos que tenemos que seguir los siguientes pasos para obtener la información que nos interesa:"
      ]
    },
    {
      "cell_type": "markdown",
      "metadata": {
        "id": "JC7JNgYvXWqp"
      },
      "source": [
        "1. Filtrar por Estado de residencia habitual del fallecido, ya que este campo es el que nos indica donde radicaba, en este caso solo nos interesan las correspondientes al Estado de Sonora (26)"
      ]
    },
    {
      "cell_type": "code",
      "execution_count": 16,
      "metadata": {
        "colab": {
          "base_uri": "https://localhost:8080/",
          "height": 299
        },
        "id": "QYnLC_fIU3dI",
        "outputId": "4f2635ae-c3aa-416f-a749-df45ba55d038"
      },
      "outputs": [
        {
          "name": "stdout",
          "output_type": "stream",
          "text": [
            "(16729, 59)\n",
            "(17644, 62)\n",
            "(18485, 59)\n",
            "(27814, 59)\n",
            "(25273, 59)\n"
          ]
        }
      ],
      "source": [
        "rawDataDefunciones2017 = rawDataDefunciones2017[rawDataDefunciones2017[\"ent_resid\"] == 26]\n",
        "print(rawDataDefunciones2017.shape)\n",
        "\n",
        "rawDataDefunciones2018 = rawDataDefunciones2018[rawDataDefunciones2018[\"ent_resid\"] == 26]\n",
        "print(rawDataDefunciones2018.shape)\n",
        "\n",
        "rawDataDefunciones2019 = rawDataDefunciones2019[rawDataDefunciones2019[\"ent_resid\"] == 26]\n",
        "print(rawDataDefunciones2019.shape)\n",
        "\n",
        "rawDataDefunciones2020 = rawDataDefunciones2020[rawDataDefunciones2020[\"ent_resid\"] == 26]\n",
        "print(rawDataDefunciones2020.shape)\n",
        "\n",
        "rawDataDefunciones2021 = rawDataDefunciones2021[rawDataDefunciones2021[\"ent_resid\"] == 26]\n",
        "print(rawDataDefunciones2021.shape)"
      ]
    },
    {
      "attachments": {},
      "cell_type": "markdown",
      "metadata": {},
      "source": [
        "Guardamos nuestra información sin procesar (raw data)"
      ]
    },
    {
      "cell_type": "code",
      "execution_count": 18,
      "metadata": {
        "id": "EfOJgoOQFxbX"
      },
      "outputs": [],
      "source": [
        "subdir = \"./data/raw_data/\"\n",
        "if not os.path.exists(subdir):\n",
        "        os.makedirs(subdir)\n",
        "rawDataDefunciones2017.to_parquet(subdir + 'raw_data_Defunciones2017.parquet')\n",
        "rawDataDefunciones2018.to_parquet(subdir + 'raw_data_Defunciones2018.parquet')\n",
        "rawDataDefunciones2019.to_parquet(subdir + 'raw_data_Defunciones2019.parquet')\n",
        "rawDataDefunciones2020.to_parquet(subdir + 'raw_data_Defunciones2020.parquet')\n",
        "rawDataDefunciones2021.to_parquet(subdir + 'raw_data_Defunciones2021.parquet')\n",
        "rawDataHabitantes.to_parquet(subdir + 'raw_data_Habitantes.parquet')"
      ]
    }
  ],
  "metadata": {
    "colab": {
      "collapsed_sections": [],
      "provenance": []
    },
    "kernelspec": {
      "display_name": "Python 3.10.6 64-bit",
      "language": "python",
      "name": "python3"
    },
    "language_info": {
      "codemirror_mode": {
        "name": "ipython",
        "version": 3
      },
      "file_extension": ".py",
      "mimetype": "text/x-python",
      "name": "python",
      "nbconvert_exporter": "python",
      "pygments_lexer": "ipython3",
      "version": "3.10.6"
    },
    "vscode": {
      "interpreter": {
        "hash": "1cbadf7e30f156f4e0b68f4bca81fa70237e67691d6ebe573bb449e31d409fb8"
      }
    }
  },
  "nbformat": 4,
  "nbformat_minor": 0
}
